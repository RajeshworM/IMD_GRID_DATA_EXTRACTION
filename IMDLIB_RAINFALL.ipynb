{
  "nbformat": 4,
  "nbformat_minor": 0,
  "metadata": {
    "colab": {
      "provenance": [],
      "include_colab_link": true
    },
    "kernelspec": {
      "name": "python3",
      "display_name": "Python 3"
    },
    "language_info": {
      "name": "python"
    }
  },
  "cells": [
    {
      "cell_type": "markdown",
      "metadata": {
        "id": "view-in-github",
        "colab_type": "text"
      },
      "source": [
        "<a href=\"https://colab.research.google.com/github/RajeshworM/IMD_GRID_DATA_EXTRACTION/blob/master/IMDLIB_RAINFALL.ipynb\" target=\"_parent\"><img src=\"https://colab.research.google.com/assets/colab-badge.svg\" alt=\"Open In Colab\"/></a>"
      ]
    },
    {
      "cell_type": "code",
      "execution_count": 1,
      "metadata": {
        "id": "TfjD2mg2vqEa",
        "colab": {
          "base_uri": "https://localhost:8080/"
        },
        "outputId": "b5e842fd-1822-46d5-83f6-11e22c7a483a"
      },
      "outputs": [
        {
          "output_type": "stream",
          "name": "stdout",
          "text": [
            "Mounted at /content/drive\n"
          ]
        }
      ],
      "source": [
        "# Connect Google drive with Google colab\n",
        "from google.colab import drive\n",
        "drive.mount('/content/drive')"
      ]
    },
    {
      "cell_type": "code",
      "source": [
        "!pip install imdlib"
      ],
      "metadata": {
        "id": "PtPYYBK4vujK",
        "colab": {
          "base_uri": "https://localhost:8080/"
        },
        "outputId": "687700f6-39cf-450b-cc5c-e1316139783d"
      },
      "execution_count": 2,
      "outputs": [
        {
          "output_type": "stream",
          "name": "stdout",
          "text": [
            "Collecting imdlib\n",
            "  Downloading imdlib-0.1.20-py3-none-any.whl.metadata (6.7 kB)\n",
            "Requirement already satisfied: matplotlib in /usr/local/lib/python3.10/dist-packages (from imdlib) (3.7.1)\n",
            "Requirement already satisfied: numpy in /usr/local/lib/python3.10/dist-packages (from imdlib) (1.26.4)\n",
            "Requirement already satisfied: pandas in /usr/local/lib/python3.10/dist-packages (from imdlib) (2.1.4)\n",
            "Requirement already satisfied: six in /usr/local/lib/python3.10/dist-packages (from imdlib) (1.16.0)\n",
            "Requirement already satisfied: python-dateutil in /usr/local/lib/python3.10/dist-packages (from imdlib) (2.8.2)\n",
            "Requirement already satisfied: pytz in /usr/local/lib/python3.10/dist-packages (from imdlib) (2024.1)\n",
            "Requirement already satisfied: urllib3 in /usr/local/lib/python3.10/dist-packages (from imdlib) (2.0.7)\n",
            "Requirement already satisfied: scipy in /usr/local/lib/python3.10/dist-packages (from imdlib) (1.13.1)\n",
            "Requirement already satisfied: xarray in /usr/local/lib/python3.10/dist-packages (from imdlib) (2024.6.0)\n",
            "Requirement already satisfied: requests in /usr/local/lib/python3.10/dist-packages (from imdlib) (2.32.3)\n",
            "Requirement already satisfied: contourpy>=1.0.1 in /usr/local/lib/python3.10/dist-packages (from matplotlib->imdlib) (1.2.1)\n",
            "Requirement already satisfied: cycler>=0.10 in /usr/local/lib/python3.10/dist-packages (from matplotlib->imdlib) (0.12.1)\n",
            "Requirement already satisfied: fonttools>=4.22.0 in /usr/local/lib/python3.10/dist-packages (from matplotlib->imdlib) (4.53.1)\n",
            "Requirement already satisfied: kiwisolver>=1.0.1 in /usr/local/lib/python3.10/dist-packages (from matplotlib->imdlib) (1.4.5)\n",
            "Requirement already satisfied: packaging>=20.0 in /usr/local/lib/python3.10/dist-packages (from matplotlib->imdlib) (24.1)\n",
            "Requirement already satisfied: pillow>=6.2.0 in /usr/local/lib/python3.10/dist-packages (from matplotlib->imdlib) (9.4.0)\n",
            "Requirement already satisfied: pyparsing>=2.3.1 in /usr/local/lib/python3.10/dist-packages (from matplotlib->imdlib) (3.1.2)\n",
            "Requirement already satisfied: tzdata>=2022.1 in /usr/local/lib/python3.10/dist-packages (from pandas->imdlib) (2024.1)\n",
            "Requirement already satisfied: charset-normalizer<4,>=2 in /usr/local/lib/python3.10/dist-packages (from requests->imdlib) (3.3.2)\n",
            "Requirement already satisfied: idna<4,>=2.5 in /usr/local/lib/python3.10/dist-packages (from requests->imdlib) (3.7)\n",
            "Requirement already satisfied: certifi>=2017.4.17 in /usr/local/lib/python3.10/dist-packages (from requests->imdlib) (2024.7.4)\n",
            "Downloading imdlib-0.1.20-py3-none-any.whl (21 kB)\n",
            "Installing collected packages: imdlib\n",
            "Successfully installed imdlib-0.1.20\n"
          ]
        }
      ]
    },
    {
      "cell_type": "code",
      "source": [
        "# Download the IMD raw data into the google drive\n",
        "import imdlib as imd\n",
        "import pandas as pd\n",
        "import geopandas as gpd\n",
        "from shapely.geometry import Point, Polygon\n",
        "\n",
        "path = \"/content/drive/MyDrive/Colab Notebooks\"\n",
        "\n",
        "start_yr = 2000\n",
        "end_yr = 2023\n",
        "variable = 'rain' # other options are ('rain'/'tmin'/ 'tmax')\n",
        "\n",
        "imd.get_data(variable, start_yr, end_yr, fn_format='yearwise', file_dir=path)\n",
        "data = imd.open_data(variable, start_yr, end_yr,'yearwise', path)\n",
        "ds = data.get_xarray()\n",
        "print(ds)\n",
        "\n"
      ],
      "metadata": {
        "id": "dxoZ92AHvwNr",
        "colab": {
          "base_uri": "https://localhost:8080/"
        },
        "outputId": "cad3a260-fe5f-46ae-b027-3e90931462f4"
      },
      "execution_count": 3,
      "outputs": [
        {
          "output_type": "stream",
          "name": "stdout",
          "text": [
            "Downloading: rain for year 2000\n",
            "Downloading: rain for year 2001\n",
            "Downloading: rain for year 2002\n",
            "Downloading: rain for year 2003\n",
            "Downloading: rain for year 2004\n",
            "Downloading: rain for year 2005\n",
            "Downloading: rain for year 2006\n",
            "Downloading: rain for year 2007\n",
            "Downloading: rain for year 2008\n",
            "Downloading: rain for year 2009\n",
            "Downloading: rain for year 2010\n",
            "Downloading: rain for year 2011\n",
            "Downloading: rain for year 2012\n",
            "Downloading: rain for year 2013\n",
            "Downloading: rain for year 2014\n",
            "Downloading: rain for year 2015\n",
            "Downloading: rain for year 2016\n",
            "Downloading: rain for year 2017\n",
            "Downloading: rain for year 2018\n",
            "Downloading: rain for year 2019\n",
            "Downloading: rain for year 2020\n",
            "Downloading: rain for year 2021\n",
            "Downloading: rain for year 2022\n",
            "Downloading: rain for year 2023\n",
            "Download Successful !!!\n",
            "<xarray.Dataset> Size: 1GB\n",
            "Dimensions:  (time: 8766, lat: 129, lon: 135)\n",
            "Coordinates:\n",
            "  * lat      (lat) float64 1kB 6.5 6.75 7.0 7.25 7.5 ... 37.75 38.0 38.25 38.5\n",
            "  * lon      (lon) float64 1kB 66.5 66.75 67.0 67.25 ... 99.25 99.5 99.75 100.0\n",
            "  * time     (time) datetime64[ns] 70kB 2000-01-01 2000-01-02 ... 2023-12-31\n",
            "Data variables:\n",
            "    rain     (time, lat, lon) float64 1GB -999.0 -999.0 -999.0 ... -999.0 -999.0\n",
            "Attributes:\n",
            "    Conventions:  CF-1.7\n",
            "    title:        IMD gridded data\n",
            "    source:       https://imdpune.gov.in/\n",
            "    history:      2024-08-14 10:11:51.117347 Python\n",
            "    references:   \n",
            "    comment:      \n",
            "    crs:          epsg:4326\n"
          ]
        }
      ]
    },
    {
      "cell_type": "code",
      "source": [
        "# Save CSV files for multiple points\n",
        "#Andhra Pradesh\n",
        "# Provide lat and long in a list\n",
        "latLong = [[17,82.2],[16.6,79.6],[14.5,78.8],[16.2,81.1],[15.8,78.1],[15.3,79.6],[14.5,80],[18.6,84.3],[17.7,83.3],[18.1,83.3],[16.8,81.5],[14.6,77],[13.5,78.5,1]]\n",
        "#Andhra Pradesh\n",
        "\n",
        "for points in latLong:\n",
        "  lat = points[0]\n",
        "  lon = points[1]\n",
        "\n",
        "  data.to_csv('ap_rain.csv', lat, lon, path)\n",
        "  print (\"data save for \",points)"
      ],
      "metadata": {
        "id": "o5BHr3Fev3W6",
        "colab": {
          "base_uri": "https://localhost:8080/"
        },
        "outputId": "47cc2857-7056-4e98-db07-b6c05ad431c4"
      },
      "execution_count": 4,
      "outputs": [
        {
          "output_type": "stream",
          "name": "stdout",
          "text": [
            "data save for  [17, 82.2]\n",
            "data save for  [16.6, 79.6]\n",
            "data save for  [14.5, 78.8]\n",
            "data save for  [16.2, 81.1]\n",
            "data save for  [15.8, 78.1]\n",
            "data save for  [15.3, 79.6]\n",
            "data save for  [14.5, 80]\n",
            "data save for  [18.6, 84.3]\n",
            "data save for  [17.7, 83.3]\n",
            "data save for  [18.1, 83.3]\n",
            "data save for  [16.8, 81.5]\n",
            "data save for  [14.6, 77]\n",
            "data save for  [13.5, 78.5, 1]\n"
          ]
        }
      ]
    },
    {
      "cell_type": "code",
      "source": [
        "#Telanga\n",
        "# Provide lat and long in a list\n",
        "latLong = [[19.4,79.3],[17.5,80.6],[17.5,78.5],[18.7,78.9],[17.7,79.1],[18.4,79.8],[16.2,77.7],[18.3,78.3],[18.4,79],[17.7,80.9],[19.3,79.2],[18.8,79.4],[17.6,80],[16.7,78],[17.4,78.5],[17.6,78],[17.6,80],[16.4,78.3],[17.1,79.3],[17.6,80],[19.9,78.3],[18.1,78.1],[18.6,79.4],[18.3,78.8],[17.3,77.8],[17.6,78.8],[18.1,78.8],[17.1,79.6],[17.3,77.9],[16.3,78.6],[18,79.6],[17.9,79.9],[17.5,78.9,1]]\n",
        "\n",
        "\n",
        "for points in latLong:\n",
        "  lat = points[0]\n",
        "  lon = points[1]\n",
        "\n",
        "  data.to_csv('tl_rain.csv', lat, lon, path)\n",
        "  print (\"data save for \",points)"
      ],
      "metadata": {
        "id": "AAQQJyfp_HMx",
        "outputId": "3152a6d5-e105-403b-adfb-60227d472f65",
        "colab": {
          "base_uri": "https://localhost:8080/"
        }
      },
      "execution_count": 5,
      "outputs": [
        {
          "output_type": "stream",
          "name": "stdout",
          "text": [
            "data save for  [19.4, 79.3]\n",
            "data save for  [17.5, 80.6]\n",
            "data save for  [17.5, 78.5]\n",
            "data save for  [18.7, 78.9]\n",
            "data save for  [17.7, 79.1]\n",
            "data save for  [18.4, 79.8]\n",
            "data save for  [16.2, 77.7]\n",
            "data save for  [18.3, 78.3]\n",
            "data save for  [18.4, 79]\n",
            "data save for  [17.7, 80.9]\n",
            "data save for  [19.3, 79.2]\n",
            "data save for  [18.8, 79.4]\n",
            "data save for  [17.6, 80]\n",
            "data save for  [16.7, 78]\n",
            "data save for  [17.4, 78.5]\n",
            "data save for  [17.6, 78]\n",
            "data save for  [17.6, 80]\n",
            "data save for  [16.4, 78.3]\n",
            "data save for  [17.1, 79.3]\n",
            "data save for  [17.6, 80]\n",
            "data save for  [19.9, 78.3]\n",
            "data save for  [18.1, 78.1]\n",
            "data save for  [18.6, 79.4]\n",
            "data save for  [18.3, 78.8]\n",
            "data save for  [17.3, 77.8]\n",
            "data save for  [17.6, 78.8]\n",
            "data save for  [18.1, 78.8]\n",
            "data save for  [17.1, 79.6]\n",
            "data save for  [17.3, 77.9]\n",
            "data save for  [16.3, 78.6]\n",
            "data save for  [18, 79.6]\n",
            "data save for  [17.9, 79.9]\n",
            "data save for  [17.5, 78.9, 1]\n"
          ]
        }
      ]
    },
    {
      "cell_type": "code",
      "source": [
        "#Assam\n",
        "# Provide lat and long in a list\n",
        "latLong =[[26.7,91.6],[26.3,91],[26.7,93.2],[26.5,90.5],[24.5,92.5],[26.9,94.9],[26.7,90.6],[26.9,92.2],[27.6,94.8],[26,90],[27.3,94.5],[26.1,90.4],[26.3,94.1],[24.5,92.6],[26,92.9],[26.8,94.2],[26.1,91.4],[26.1,91.6],[25.5,93.3],[24.6,92.4],[26.5,90.2],[27.1,94.1],[27,94.2],[26.3,92.3],[26.2,92.4],[26.4,91.4],[25.1,93],[26.6,94.4],[26.7,92.9],[26.4,91.8],[27.5,95.4],[26.7,91.9],[26,93.3,1]]\n",
        "\n",
        "\n",
        "for points in latLong:\n",
        "  lat = points[0]\n",
        "  lon = points[1]\n",
        "\n",
        "  data.to_csv('as_rain.csv', lat, lon, path)\n",
        "  print (\"data save for \",points)"
      ],
      "metadata": {
        "id": "8fmDDmvz_O2Z",
        "outputId": "a9cb812f-667b-4ad2-a70f-c424eac0ba56",
        "colab": {
          "base_uri": "https://localhost:8080/"
        }
      },
      "execution_count": 6,
      "outputs": [
        {
          "output_type": "stream",
          "name": "stdout",
          "text": [
            "data save for  [26.7, 91.6]\n",
            "data save for  [26.3, 91]\n",
            "data save for  [26.7, 93.2]\n",
            "data save for  [26.5, 90.5]\n",
            "data save for  [24.5, 92.5]\n",
            "data save for  [26.9, 94.9]\n",
            "data save for  [26.7, 90.6]\n",
            "data save for  [26.9, 92.2]\n",
            "data save for  [27.6, 94.8]\n",
            "data save for  [26, 90]\n",
            "data save for  [27.3, 94.5]\n",
            "data save for  [26.1, 90.4]\n",
            "data save for  [26.3, 94.1]\n",
            "data save for  [24.5, 92.6]\n",
            "data save for  [26, 92.9]\n",
            "data save for  [26.8, 94.2]\n",
            "data save for  [26.1, 91.4]\n",
            "data save for  [26.1, 91.6]\n",
            "data save for  [25.5, 93.3]\n",
            "data save for  [24.6, 92.4]\n",
            "data save for  [26.5, 90.2]\n",
            "data save for  [27.1, 94.1]\n",
            "data save for  [27, 94.2]\n",
            "data save for  [26.3, 92.3]\n",
            "data save for  [26.2, 92.4]\n",
            "data save for  [26.4, 91.4]\n",
            "data save for  [25.1, 93]\n",
            "data save for  [26.6, 94.4]\n",
            "data save for  [26.7, 92.9]\n",
            "data save for  [26.4, 91.8]\n",
            "data save for  [27.5, 95.4]\n",
            "data save for  [26.7, 91.9]\n",
            "data save for  [26, 93.3, 1]\n"
          ]
        }
      ]
    },
    {
      "cell_type": "code",
      "source": [
        "#Bihar\n",
        "# Provide lat and long in a list\n",
        "latLong = [[26.1,87.3],[25.2,84.7],[24.5,84.3],[24.9,86.9],[25.4,86.1],[25,83.6],[25.3,87],[25.8,94.8],[25.3,84],[26.5,84.6],[26.6,84.9],[27.2,84.4],[26.1,85.6],[24.8,85],[26.3,84.3],[24.8,86.3],[25.2,85],[25.6,87.6],[25.5,86.7],[26.1,87.9],[25.2,86.1],[25.9,86.8],[26.5,86.2],[24.9,86.2],[26.1,85.4],[24.8,85],[24.5,85.4],[25.6,85],[25.8,87.5],[25.1,84],[26.2,86.8],[25.6,85.5],[26,84.8],[25.5,84.5],[25.1,85.5],[26.5,85.3],[26.6,85.5],[26.2,84.4],[26.3,86.8],[25.7,85.4,1]]\n",
        "\n",
        "\n",
        "for points in latLong:\n",
        "  lat = points[0]\n",
        "  lon = points[1]\n",
        "\n",
        "  data.to_csv('bh_rain.csv', lat, lon, path)\n",
        "  print (\"data save for \",points)"
      ],
      "metadata": {
        "id": "nhsVcZjd_PGh",
        "outputId": "d2786096-7fcd-478c-ca4c-367692cabc35",
        "colab": {
          "base_uri": "https://localhost:8080/"
        }
      },
      "execution_count": 7,
      "outputs": [
        {
          "output_type": "stream",
          "name": "stdout",
          "text": [
            "data save for  [26.1, 87.3]\n",
            "data save for  [25.2, 84.7]\n",
            "data save for  [24.5, 84.3]\n",
            "data save for  [24.9, 86.9]\n",
            "data save for  [25.4, 86.1]\n",
            "data save for  [25, 83.6]\n",
            "data save for  [25.3, 87]\n",
            "data save for  [25.8, 94.8]\n",
            "data save for  [25.3, 84]\n",
            "data save for  [26.5, 84.6]\n",
            "data save for  [26.6, 84.9]\n",
            "data save for  [27.2, 84.4]\n",
            "data save for  [26.1, 85.6]\n",
            "data save for  [24.8, 85]\n",
            "data save for  [26.3, 84.3]\n",
            "data save for  [24.8, 86.3]\n",
            "data save for  [25.2, 85]\n",
            "data save for  [25.6, 87.6]\n",
            "data save for  [25.5, 86.7]\n",
            "data save for  [26.1, 87.9]\n",
            "data save for  [25.2, 86.1]\n",
            "data save for  [25.9, 86.8]\n",
            "data save for  [26.5, 86.2]\n",
            "data save for  [24.9, 86.2]\n",
            "data save for  [26.1, 85.4]\n",
            "data save for  [24.8, 85]\n",
            "data save for  [24.5, 85.4]\n",
            "data save for  [25.6, 85]\n",
            "data save for  [25.8, 87.5]\n",
            "data save for  [25.1, 84]\n",
            "data save for  [26.2, 86.8]\n",
            "data save for  [25.6, 85.5]\n",
            "data save for  [26, 84.8]\n",
            "data save for  [25.5, 84.5]\n",
            "data save for  [25.1, 85.5]\n",
            "data save for  [26.5, 85.3]\n",
            "data save for  [26.6, 85.5]\n",
            "data save for  [26.2, 84.4]\n",
            "data save for  [26.3, 86.8]\n",
            "data save for  [25.7, 85.4, 1]\n"
          ]
        }
      ]
    },
    {
      "cell_type": "code",
      "source": [
        "#Gujarat\n",
        "# Provide lat and long in a list\n",
        "latLong = [[23.1,72.6],[21.5,71.1],[22.3,73],[25.2,73.8],[24.3,71.9],[21.7,73],[21.8,72.2],[22.2,71.7],[22.2,74.1],[22.8,74.3],[20.8,73.6],[22.1,69.4],[23.2,72.6],[21,70.7],[22.5,70.1],[20.9,70.4],[22.3,73.3],[23.3,69.8],[23.2,73.6],[23.8,71.6],[22.8,70.8],[21.9,73.6],[21,73],[22.9,73.8],[23.5,72.1],[21.4,69.5],[22.3,70.8],[23.5,73.2],[21.2,72.1],[22.8,71.6],[21.3,73.6],[22.3,73.3],[20.6,73.2,1]]\n",
        "\n",
        "\n",
        "for points in latLong:\n",
        "  lat = points[0]\n",
        "  lon = points[1]\n",
        "\n",
        "  data.to_csv('gj_rain.csv', lat, lon, path)\n",
        "  print (\"data save for \",points)"
      ],
      "metadata": {
        "id": "BRo7YGnt_PLZ",
        "outputId": "f1938a58-08ea-476a-8610-445478ad9145",
        "colab": {
          "base_uri": "https://localhost:8080/"
        }
      },
      "execution_count": 8,
      "outputs": [
        {
          "output_type": "stream",
          "name": "stdout",
          "text": [
            "data save for  [23.1, 72.6]\n",
            "data save for  [21.5, 71.1]\n",
            "data save for  [22.3, 73]\n",
            "data save for  [25.2, 73.8]\n",
            "data save for  [24.3, 71.9]\n",
            "data save for  [21.7, 73]\n",
            "data save for  [21.8, 72.2]\n",
            "data save for  [22.2, 71.7]\n",
            "data save for  [22.2, 74.1]\n",
            "data save for  [22.8, 74.3]\n",
            "data save for  [20.8, 73.6]\n",
            "data save for  [22.1, 69.4]\n",
            "data save for  [23.2, 72.6]\n",
            "data save for  [21, 70.7]\n",
            "data save for  [22.5, 70.1]\n",
            "data save for  [20.9, 70.4]\n",
            "data save for  [22.3, 73.3]\n",
            "data save for  [23.3, 69.8]\n",
            "data save for  [23.2, 73.6]\n",
            "data save for  [23.8, 71.6]\n",
            "data save for  [22.8, 70.8]\n",
            "data save for  [21.9, 73.6]\n",
            "data save for  [21, 73]\n",
            "data save for  [22.9, 73.8]\n",
            "data save for  [23.5, 72.1]\n",
            "data save for  [21.4, 69.5]\n",
            "data save for  [22.3, 70.8]\n",
            "data save for  [23.5, 73.2]\n",
            "data save for  [21.2, 72.1]\n",
            "data save for  [22.8, 71.6]\n",
            "data save for  [21.3, 73.6]\n",
            "data save for  [22.3, 73.3]\n",
            "data save for  [20.6, 73.2, 1]\n"
          ]
        }
      ]
    },
    {
      "cell_type": "code",
      "source": [
        "#Haryana\n",
        "# Provide lat and long in a list\n",
        "latLong = [[30.4,76.7],[28.5,76.2],[28.6,76.3],[28.3,77.2],[29.3,75.3],[28.5,76.8],[29.2,75.7],[28.6,76.7],[29.5,76.4],[29.4,77],[29.7,77],[30,76.9],[28.4,76.2],[28,77.1],[28.2,77.3],[30.7,76.9],[29.4,77],[29.4,76.4],[28.9,76.6],[29.5,75],[29,77],[30.1,77.3,1]]\n",
        "\n",
        "\n",
        "for points in latLong:\n",
        "  lat = points[0]\n",
        "  lon = points[1]\n",
        "\n",
        "  data.to_csv('hy_rain.csv', lat, lon, path)\n",
        "  print (\"data save for \",points)"
      ],
      "metadata": {
        "id": "9zj9fWT9_PPE",
        "outputId": "e1a846f5-d1ca-4251-cdfb-2ba5fab44e61",
        "colab": {
          "base_uri": "https://localhost:8080/"
        }
      },
      "execution_count": 9,
      "outputs": [
        {
          "output_type": "stream",
          "name": "stdout",
          "text": [
            "data save for  [30.4, 76.7]\n",
            "data save for  [28.5, 76.2]\n",
            "data save for  [28.6, 76.3]\n",
            "data save for  [28.3, 77.2]\n",
            "data save for  [29.3, 75.3]\n",
            "data save for  [28.5, 76.8]\n",
            "data save for  [29.2, 75.7]\n",
            "data save for  [28.6, 76.7]\n",
            "data save for  [29.5, 76.4]\n",
            "data save for  [29.4, 77]\n",
            "data save for  [29.7, 77]\n",
            "data save for  [30, 76.9]\n",
            "data save for  [28.4, 76.2]\n",
            "data save for  [28, 77.1]\n",
            "data save for  [28.2, 77.3]\n",
            "data save for  [30.7, 76.9]\n",
            "data save for  [29.4, 77]\n",
            "data save for  [29.4, 76.4]\n",
            "data save for  [28.9, 76.6]\n",
            "data save for  [29.5, 75]\n",
            "data save for  [29, 77]\n",
            "data save for  [30.1, 77.3, 1]\n"
          ]
        }
      ]
    },
    {
      "cell_type": "code",
      "source": [
        "#Karnataka\n",
        "# Provide lat and long in a list\n",
        "latLong =[[16.1,75.5],[13,77.6],[13.3,77.6],[13,77.7],[15.9,74.5],[15.2,76.9],[17.9,77.5],[16.8,75.7],[11.6,77],[13.3,75.8],[13.3,77.5],[14.2,76.4],[12.9,74.9],[14.3,75.6],[15.5,75],[15.3,75.4],[17.4,76.9],[13,76.2],[14.7,75.4],[12.4,75.7],[13.1,78.1],[15.6,76.2],[12.8,77.8],[12.1,76.3],[16.2,77.4],[12.7,77.3],[13.9,75.6],[13.4,77.1],[13.3,74.7],[14.8,75.5],[16.8,77.1,1]]\n",
        "\n",
        "\n",
        "for points in latLong:\n",
        "  lat = points[0]\n",
        "  lon = points[1]\n",
        "\n",
        "  data.to_csv('kr_rain.csv', lat, lon, path)\n",
        "  print (\"data save for \",points)"
      ],
      "metadata": {
        "id": "d7ki-ITq_PSB",
        "outputId": "60b1b636-c633-4beb-ac03-52707eee70d3",
        "colab": {
          "base_uri": "https://localhost:8080/"
        }
      },
      "execution_count": 10,
      "outputs": [
        {
          "output_type": "stream",
          "name": "stdout",
          "text": [
            "data save for  [16.1, 75.5]\n",
            "data save for  [13, 77.6]\n",
            "data save for  [13.3, 77.6]\n",
            "data save for  [13, 77.7]\n",
            "data save for  [15.9, 74.5]\n",
            "data save for  [15.2, 76.9]\n",
            "data save for  [17.9, 77.5]\n",
            "data save for  [16.8, 75.7]\n",
            "data save for  [11.6, 77]\n",
            "data save for  [13.3, 75.8]\n",
            "data save for  [13.3, 77.5]\n",
            "data save for  [14.2, 76.4]\n",
            "data save for  [12.9, 74.9]\n",
            "data save for  [14.3, 75.6]\n",
            "data save for  [15.5, 75]\n",
            "data save for  [15.3, 75.4]\n",
            "data save for  [17.4, 76.9]\n",
            "data save for  [13, 76.2]\n",
            "data save for  [14.7, 75.4]\n",
            "data save for  [12.4, 75.7]\n",
            "data save for  [13.1, 78.1]\n",
            "data save for  [15.6, 76.2]\n",
            "data save for  [12.8, 77.8]\n",
            "data save for  [12.1, 76.3]\n",
            "data save for  [16.2, 77.4]\n",
            "data save for  [12.7, 77.3]\n",
            "data save for  [13.9, 75.6]\n",
            "data save for  [13.4, 77.1]\n",
            "data save for  [13.3, 74.7]\n",
            "data save for  [14.8, 75.5]\n",
            "data save for  [16.8, 77.1, 1]\n"
          ]
        }
      ]
    },
    {
      "cell_type": "code",
      "source": [
        "#Madhya Pradesh\n",
        "# Provide lat and long in a list\n",
        "latLong = [[23.7,76],[22.1,74.2],[23.1,81.8],[24.6,77.7],[22.1,80.6],[22,74.6],[21.9,77.9],[21.9,77.7],[23.2,77.4],[21.2,76.2],[25.1,79.5],[22.1,79],[24.1,79.6],[25.7,78.5],[22.6,76.4],[22.5,75],[22.6,81.4],[24.7,77.3],[26.2,78.3],[22.3,77.1],[22.8,77.8],[22.7,75.8],[23,80],[22.6,74.4],[23.5,80.3],[21.1,76.4],[21.9,75.4],[25,88.1],[24.3,75.2],[25.1,76.7],[22.8,79],[24.3,74.5],[25.3,78.7],[24.3,80],[23.2,78.2],[23.9,76.8],[23,75],[24.5,81.3],[23.9,78.8],[24.6,80.1],[22.9,77.1],[22.1,79.7],[23.5,81.1],[23.4,76.4],[25.7,76.7],[24.6,77.5],[24.3,82],[24.2,82.7],[24.9,78.9],[23.3,75.7],[23.6,81.1],[23.9,77.9,1]]\n",
        "\n",
        "\n",
        "for points in latLong:\n",
        "  lat = points[0]\n",
        "  lon = points[1]\n",
        "\n",
        "  data.to_csv('mp_rain.csv', lat, lon, path)\n",
        "  print (\"data save for \",points)"
      ],
      "metadata": {
        "id": "z7C2DsFr_PUp",
        "outputId": "bf843701-bac9-4474-b82f-e7f0d5d473db",
        "colab": {
          "base_uri": "https://localhost:8080/"
        }
      },
      "execution_count": 11,
      "outputs": [
        {
          "output_type": "stream",
          "name": "stdout",
          "text": [
            "data save for  [23.7, 76]\n",
            "data save for  [22.1, 74.2]\n",
            "data save for  [23.1, 81.8]\n",
            "data save for  [24.6, 77.7]\n",
            "data save for  [22.1, 80.6]\n",
            "data save for  [22, 74.6]\n",
            "data save for  [21.9, 77.9]\n",
            "data save for  [21.9, 77.7]\n",
            "data save for  [23.2, 77.4]\n",
            "data save for  [21.2, 76.2]\n",
            "data save for  [25.1, 79.5]\n",
            "data save for  [22.1, 79]\n",
            "data save for  [24.1, 79.6]\n",
            "data save for  [25.7, 78.5]\n",
            "data save for  [22.6, 76.4]\n",
            "data save for  [22.5, 75]\n",
            "data save for  [22.6, 81.4]\n",
            "data save for  [24.7, 77.3]\n",
            "data save for  [26.2, 78.3]\n",
            "data save for  [22.3, 77.1]\n",
            "data save for  [22.8, 77.8]\n",
            "data save for  [22.7, 75.8]\n",
            "data save for  [23, 80]\n",
            "data save for  [22.6, 74.4]\n",
            "data save for  [23.5, 80.3]\n",
            "data save for  [21.1, 76.4]\n",
            "data save for  [21.9, 75.4]\n",
            "data save for  [25, 88.1]\n",
            "data save for  [24.3, 75.2]\n",
            "data save for  [25.1, 76.7]\n",
            "data save for  [22.8, 79]\n",
            "data save for  [24.3, 74.5]\n",
            "data save for  [25.3, 78.7]\n",
            "data save for  [24.3, 80]\n",
            "data save for  [23.2, 78.2]\n",
            "data save for  [23.9, 76.8]\n",
            "data save for  [23, 75]\n",
            "data save for  [24.5, 81.3]\n",
            "data save for  [23.9, 78.8]\n",
            "data save for  [24.6, 80.1]\n",
            "data save for  [22.9, 77.1]\n",
            "data save for  [22.1, 79.7]\n",
            "data save for  [23.5, 81.1]\n",
            "data save for  [23.4, 76.4]\n",
            "data save for  [25.7, 76.7]\n",
            "data save for  [24.6, 77.5]\n",
            "data save for  [24.3, 82]\n",
            "data save for  [24.2, 82.7]\n",
            "data save for  [24.9, 78.9]\n",
            "data save for  [23.3, 75.7]\n",
            "data save for  [23.6, 81.1]\n",
            "data save for  [23.9, 77.9, 1]\n"
          ]
        }
      ]
    },
    {
      "cell_type": "code",
      "source": [
        "#Maharashtra\n",
        "# Provide lat and long in a list\n",
        "latLong = [[19.1,74.9],[20.7,77],[20.9,77.8],[19.9,75.3],[20,79.3],[19,75.8],[18.9,72.8],[20.5,76.2],[19.4,80],[21.1,74.6],[19.5,80.3],[21.3,80.3],[19.4,77.1],[21.1,75.6],[19.5,75.6],[16.7,74.2],[18.2,76.4],[19,72.9],[19.2,72.9],[21.2,79.1],[19.1,77.2],[21.2,74.2],[20.6,74.5],[18,76.1],[19.7,72.8],[19.1,76.1],[18.5,73.9],[18.4,73.1],[17,73],[16.9,74.8],[17.4,73.6],[16.4,73.6],[17.1,75.9],[20,72.7],[20.9,78.4],[20.1,77.1],[20.4,78.1,1]]\n",
        "\n",
        "\n",
        "for points in latLong:\n",
        "  lat = points[0]\n",
        "  lon = points[1]\n",
        "\n",
        "  data.to_csv('mh_rain.csv', lat, lon, path)\n",
        "  print (\"data save for \",points)"
      ],
      "metadata": {
        "id": "HmSu1IJI_PXa",
        "outputId": "e883c591-bc55-48dc-cc8f-145ffde3077e",
        "colab": {
          "base_uri": "https://localhost:8080/"
        }
      },
      "execution_count": 12,
      "outputs": [
        {
          "output_type": "stream",
          "name": "stdout",
          "text": [
            "data save for  [19.1, 74.9]\n",
            "data save for  [20.7, 77]\n",
            "data save for  [20.9, 77.8]\n",
            "data save for  [19.9, 75.3]\n",
            "data save for  [20, 79.3]\n",
            "data save for  [19, 75.8]\n",
            "data save for  [18.9, 72.8]\n",
            "data save for  [20.5, 76.2]\n",
            "data save for  [19.4, 80]\n",
            "data save for  [21.1, 74.6]\n",
            "data save for  [19.5, 80.3]\n",
            "data save for  [21.3, 80.3]\n",
            "data save for  [19.4, 77.1]\n",
            "data save for  [21.1, 75.6]\n",
            "data save for  [19.5, 75.6]\n",
            "data save for  [16.7, 74.2]\n",
            "data save for  [18.2, 76.4]\n",
            "data save for  [19, 72.9]\n",
            "data save for  [19.2, 72.9]\n",
            "data save for  [21.2, 79.1]\n",
            "data save for  [19.1, 77.2]\n",
            "data save for  [21.2, 74.2]\n",
            "data save for  [20.6, 74.5]\n",
            "data save for  [18, 76.1]\n",
            "data save for  [19.7, 72.8]\n",
            "data save for  [19.1, 76.1]\n",
            "data save for  [18.5, 73.9]\n",
            "data save for  [18.4, 73.1]\n",
            "data save for  [17, 73]\n",
            "data save for  [16.9, 74.8]\n",
            "data save for  [17.4, 73.6]\n",
            "data save for  [16.4, 73.6]\n",
            "data save for  [17.1, 75.9]\n",
            "data save for  [20, 72.7]\n",
            "data save for  [20.9, 78.4]\n",
            "data save for  [20.1, 77.1]\n",
            "data save for  [20.4, 78.1, 1]\n"
          ]
        }
      ]
    },
    {
      "cell_type": "code",
      "source": [
        "#Orissa\n",
        "# Provide lat and long in a list\n",
        "latLong = [[19.3,84.9],[19.3,83.1],[21.6,85.6],[18.8,82.7],[19.1,86.4],[20.1,84.4],[19.8,85.8],[21.5,84],[21.5,84.9],[20.8,85.2],[21.1,86.9],[21.3,83.6],[21,86.3],[20.3,83.2],[20.5,84.5],[20.8,85.9],[21.3,84.5],[20.7,85.6],[19.2,84.2],[20.2,86.3],[20.8,86.2],[21.9,84],[20.6,86.7],[20.1,85.5],[18.2,82],[19.5,82.3],[20.2,85],[20.5,82.6],[19.2,83.4],[20.9,83.9,1]]\n",
        "\n",
        "\n",
        "for points in latLong:\n",
        "  lat = points[0]\n",
        "  lon = points[1]\n",
        "\n",
        "  data.to_csv('or_rain.csv', lat, lon, path)\n",
        "  print (\"data save for \",points)"
      ],
      "metadata": {
        "id": "mMU1p09w_PZx",
        "outputId": "dcb1280f-8d40-4310-e520-a80b211b2b1b",
        "colab": {
          "base_uri": "https://localhost:8080/"
        }
      },
      "execution_count": 13,
      "outputs": [
        {
          "output_type": "stream",
          "name": "stdout",
          "text": [
            "data save for  [19.3, 84.9]\n",
            "data save for  [19.3, 83.1]\n",
            "data save for  [21.6, 85.6]\n",
            "data save for  [18.8, 82.7]\n",
            "data save for  [19.1, 86.4]\n",
            "data save for  [20.1, 84.4]\n",
            "data save for  [19.8, 85.8]\n",
            "data save for  [21.5, 84]\n",
            "data save for  [21.5, 84.9]\n",
            "data save for  [20.8, 85.2]\n",
            "data save for  [21.1, 86.9]\n",
            "data save for  [21.3, 83.6]\n",
            "data save for  [21, 86.3]\n",
            "data save for  [20.3, 83.2]\n",
            "data save for  [20.5, 84.5]\n",
            "data save for  [20.8, 85.9]\n",
            "data save for  [21.3, 84.5]\n",
            "data save for  [20.7, 85.6]\n",
            "data save for  [19.2, 84.2]\n",
            "data save for  [20.2, 86.3]\n",
            "data save for  [20.8, 86.2]\n",
            "data save for  [21.9, 84]\n",
            "data save for  [20.6, 86.7]\n",
            "data save for  [20.1, 85.5]\n",
            "data save for  [18.2, 82]\n",
            "data save for  [19.5, 82.3]\n",
            "data save for  [20.2, 85]\n",
            "data save for  [20.5, 82.6]\n",
            "data save for  [19.2, 83.4]\n",
            "data save for  [20.9, 83.9, 1]\n"
          ]
        }
      ]
    },
    {
      "cell_type": "code",
      "source": [
        "#Punjab\n",
        "# Provide lat and long in a list\n",
        "latLong = [[31.6,74.9],[30.4,75.5],[31.6,75.3],[30.7,74.8],[30.7,76.4],[30.3,74],[30.9,74.6],[32.3,75.7],[31.6,75.9],[31.5,75.6],[31.1,75.4],[30.9,75.9],[30,75.4],[30.8,75.2],[32.2,75.4],[30,76.5],[30.3,76.5],[30.7,76.7],[31.1,76],[31,75.9],[30.5,74.5],[31.5,74.9,1]]\n",
        "\n",
        "\n",
        "for points in latLong:\n",
        "  lat = points[0]\n",
        "  lon = points[1]\n",
        "\n",
        "  data.to_csv('pj_rain.csv', lat, lon, path)\n",
        "  print (\"data save for \",points)"
      ],
      "metadata": {
        "id": "wyBZUPHI_Pc0",
        "outputId": "920641af-5d32-4b48-eb9c-3d3ed45bba2d",
        "colab": {
          "base_uri": "https://localhost:8080/"
        }
      },
      "execution_count": 14,
      "outputs": [
        {
          "output_type": "stream",
          "name": "stdout",
          "text": [
            "data save for  [31.6, 74.9]\n",
            "data save for  [30.4, 75.5]\n",
            "data save for  [31.6, 75.3]\n",
            "data save for  [30.7, 74.8]\n",
            "data save for  [30.7, 76.4]\n",
            "data save for  [30.3, 74]\n",
            "data save for  [30.9, 74.6]\n",
            "data save for  [32.3, 75.7]\n",
            "data save for  [31.6, 75.9]\n",
            "data save for  [31.5, 75.6]\n",
            "data save for  [31.1, 75.4]\n",
            "data save for  [30.9, 75.9]\n",
            "data save for  [30, 75.4]\n",
            "data save for  [30.8, 75.2]\n",
            "data save for  [32.2, 75.4]\n",
            "data save for  [30, 76.5]\n",
            "data save for  [30.3, 76.5]\n",
            "data save for  [30.7, 76.7]\n",
            "data save for  [31.1, 76]\n",
            "data save for  [31, 75.9]\n",
            "data save for  [30.5, 74.5]\n",
            "data save for  [31.5, 74.9, 1]\n"
          ]
        }
      ]
    },
    {
      "cell_type": "code",
      "source": [
        "#Rajasthan\n",
        "# Provide lat and long in a list\n",
        "latLong = [[26.5,74.6],[26.4,76.6],[23.6,74.5],[25.1,76.5],[25.8,71.4],[26.7,77.9],[25.6,74.9],[28,73.3],[25.6,75.7],[24.8,75.5],[28.4,74.4],[26.9,76.3],[26.7,77.9],[23.8,73.9],[29.9,73.9],[29.6,74.3],[26.9,75.8],[26.9,70.9],[25.1,72.2],[24.5,76.2],[28.1,75.5],[26.3,73.1],[26.5,77],[25.2,75.9],[27,74],[25.7,73.6],[24,74.8],[25.1,73.9],[27.6,75.1],[24.7,72.7],[26.4,76.8],[26.1,75.6],[24.6,73.7,1]]\n",
        "\n",
        "\n",
        "for points in latLong:\n",
        "  lat = points[0]\n",
        "  lon = points[1]\n",
        "\n",
        "  data.to_csv('rj_rain.csv', lat, lon, path)\n",
        "  print (\"data save for \",points)"
      ],
      "metadata": {
        "id": "c_Qmj9L4_Pfh",
        "outputId": "e8a2c71b-4649-48e1-a8eb-36b830a8ad3a",
        "colab": {
          "base_uri": "https://localhost:8080/"
        }
      },
      "execution_count": 15,
      "outputs": [
        {
          "output_type": "stream",
          "name": "stdout",
          "text": [
            "data save for  [26.5, 74.6]\n",
            "data save for  [26.4, 76.6]\n",
            "data save for  [23.6, 74.5]\n",
            "data save for  [25.1, 76.5]\n",
            "data save for  [25.8, 71.4]\n",
            "data save for  [26.7, 77.9]\n",
            "data save for  [25.6, 74.9]\n",
            "data save for  [28, 73.3]\n",
            "data save for  [25.6, 75.7]\n",
            "data save for  [24.8, 75.5]\n",
            "data save for  [28.4, 74.4]\n",
            "data save for  [26.9, 76.3]\n",
            "data save for  [26.7, 77.9]\n",
            "data save for  [23.8, 73.9]\n",
            "data save for  [29.9, 73.9]\n",
            "data save for  [29.6, 74.3]\n",
            "data save for  [26.9, 75.8]\n",
            "data save for  [26.9, 70.9]\n",
            "data save for  [25.1, 72.2]\n",
            "data save for  [24.5, 76.2]\n",
            "data save for  [28.1, 75.5]\n",
            "data save for  [26.3, 73.1]\n",
            "data save for  [26.5, 77]\n",
            "data save for  [25.2, 75.9]\n",
            "data save for  [27, 74]\n",
            "data save for  [25.7, 73.6]\n",
            "data save for  [24, 74.8]\n",
            "data save for  [25.1, 73.9]\n",
            "data save for  [27.6, 75.1]\n",
            "data save for  [24.7, 72.7]\n",
            "data save for  [26.4, 76.8]\n",
            "data save for  [26.1, 75.6]\n",
            "data save for  [24.6, 73.7, 1]\n"
          ]
        }
      ]
    },
    {
      "cell_type": "code",
      "source": [
        "#Tamilnadu\n",
        "# Provide lat and long in a list\n",
        "latLong = [[11.2,79.3],[12.7,80],[24.6,79.9],[13.1,80.2],[11.4,79.7],[11,77],[12.1,78.1],[10.4,78],[11.7,79],[8.3,77.3],[11,78.1],[12.6,78],[9.9,78.1],[11.1,79.7],[10.8,79.8],[11.2,78.2],[12.9,79.2],[11.2,78.9],[11.3,77.7],[10.4,78.8],[9.2,78.5],[12.9,79.3],[11.7,78],[10,78.6],[9.3,78.3],[9,77.3],[10.8,79.9],[11.4,77.4],[10,77.5],[8.7,77.8],[11.1,77.3],[13.3,80],[12.2,79.1],[10.8,78.7],[12.5,78.6],[10.8,79.6],[12,79.3],[9.4,77.8,1]]\n",
        "\n",
        "\n",
        "for points in latLong:\n",
        "  lat = points[0]\n",
        "  lon = points[1]\n",
        "\n",
        "  data.to_csv('tn_rain.csv', lat, lon, path)\n",
        "  print (\"data save for \",points)"
      ],
      "metadata": {
        "id": "pUVvE9W8_zLK",
        "outputId": "5b760c6f-de96-4616-dc3b-3350bc134333",
        "colab": {
          "base_uri": "https://localhost:8080/"
        }
      },
      "execution_count": 16,
      "outputs": [
        {
          "output_type": "stream",
          "name": "stdout",
          "text": [
            "data save for  [11.2, 79.3]\n",
            "data save for  [12.7, 80]\n",
            "data save for  [24.6, 79.9]\n",
            "data save for  [13.1, 80.2]\n",
            "data save for  [11.4, 79.7]\n",
            "data save for  [11, 77]\n",
            "data save for  [12.1, 78.1]\n",
            "data save for  [10.4, 78]\n",
            "data save for  [11.7, 79]\n",
            "data save for  [8.3, 77.3]\n",
            "data save for  [11, 78.1]\n",
            "data save for  [12.6, 78]\n",
            "data save for  [9.9, 78.1]\n",
            "data save for  [11.1, 79.7]\n",
            "data save for  [10.8, 79.8]\n",
            "data save for  [11.2, 78.2]\n",
            "data save for  [12.9, 79.2]\n",
            "data save for  [11.2, 78.9]\n",
            "data save for  [11.3, 77.7]\n",
            "data save for  [10.4, 78.8]\n",
            "data save for  [9.2, 78.5]\n",
            "data save for  [12.9, 79.3]\n",
            "data save for  [11.7, 78]\n",
            "data save for  [10, 78.6]\n",
            "data save for  [9.3, 78.3]\n",
            "data save for  [9, 77.3]\n",
            "data save for  [10.8, 79.9]\n",
            "data save for  [11.4, 77.4]\n",
            "data save for  [10, 77.5]\n",
            "data save for  [8.7, 77.8]\n",
            "data save for  [11.1, 77.3]\n",
            "data save for  [13.3, 80]\n",
            "data save for  [12.2, 79.1]\n",
            "data save for  [10.8, 78.7]\n",
            "data save for  [12.5, 78.6]\n",
            "data save for  [10.8, 79.6]\n",
            "data save for  [12, 79.3]\n",
            "data save for  [9.4, 77.8, 1]\n"
          ]
        }
      ]
    },
    {
      "cell_type": "code",
      "source": [
        "#Uttar Pradesh\n",
        "# Provide lat and long in a list\n",
        "latLong = [[27.2,78],[27.9,78.1],[25.5,81.7],[26.5,82.7],[26.3,81.7],[28.9,78.5],[26.7,79.5],[26,83.2],[29.1,77.3],[27.6,81.6],[25.9,84],[27.4,82.3],[25.5,80.4],[26.9,81.3],[28.4,79.4],[26.8,82.8],[28.7,78.7],[28.1,79],[28.3,77.9],[25.2,83.3],[25.1,81.1],[26.8,83.9],[27.6,78.8],[27.1,78.7],[26.5,82.4],[27.2,79.5],[25.9,80.1],[27.2,78.4],[28.3,77.6],[28.7,77.5],[25.7,83.6],[27.1,82],[26.8,83.4],[25.5,79.9],[28.7,77.8],[27.4,80.1],[27.6,78.1],[26,79.5],[25.7,82.6],[25.5,78.6],[27.1,79.9],[26.4,80.3],[26.5,79.8],[26.4,80.2],[27.8,78.8],[27.9,80.8],[25.5,81.4],[26.7,83.9],[24.7,78.4],[26.9,80.9],[25.3,79.9],[27.1,83.6],[27.3,79.1],[27.6,77.6],[26,83.6],[29,77.7],[25,82.6],[28.7,78.7],[29.5,77.7],[28.5,79.9],[25.8,81.8],[26.2,81.2],[28.8,79.1],[29.9,77.9],[28.6,78.6],[26.8,83],[25.3,82.4],[28,79.9],[29.5,77.3],[27.6,81.9],[27.3,82.8],[27.6,80.8],[24.5,83],[26.2,82],[26.6,80.5],[25.3,83,1]]\n",
        "\n",
        "\n",
        "for points in latLong:\n",
        "  lat = points[0]\n",
        "  lon = points[1]\n",
        "\n",
        "  data.to_csv('up_rain.csv', lat, lon, path)\n",
        "  print (\"data save for \",points)"
      ],
      "metadata": {
        "id": "k6g0rbIa_zRt",
        "outputId": "9665355c-252d-43a4-f7b7-675209e195fd",
        "colab": {
          "base_uri": "https://localhost:8080/"
        }
      },
      "execution_count": 17,
      "outputs": [
        {
          "output_type": "stream",
          "name": "stdout",
          "text": [
            "data save for  [27.2, 78]\n",
            "data save for  [27.9, 78.1]\n",
            "data save for  [25.5, 81.7]\n",
            "data save for  [26.5, 82.7]\n",
            "data save for  [26.3, 81.7]\n",
            "data save for  [28.9, 78.5]\n",
            "data save for  [26.7, 79.5]\n",
            "data save for  [26, 83.2]\n",
            "data save for  [29.1, 77.3]\n",
            "data save for  [27.6, 81.6]\n",
            "data save for  [25.9, 84]\n",
            "data save for  [27.4, 82.3]\n",
            "data save for  [25.5, 80.4]\n",
            "data save for  [26.9, 81.3]\n",
            "data save for  [28.4, 79.4]\n",
            "data save for  [26.8, 82.8]\n",
            "data save for  [28.7, 78.7]\n",
            "data save for  [28.1, 79]\n",
            "data save for  [28.3, 77.9]\n",
            "data save for  [25.2, 83.3]\n",
            "data save for  [25.1, 81.1]\n",
            "data save for  [26.8, 83.9]\n",
            "data save for  [27.6, 78.8]\n",
            "data save for  [27.1, 78.7]\n",
            "data save for  [26.5, 82.4]\n",
            "data save for  [27.2, 79.5]\n",
            "data save for  [25.9, 80.1]\n",
            "data save for  [27.2, 78.4]\n",
            "data save for  [28.3, 77.6]\n",
            "data save for  [28.7, 77.5]\n",
            "data save for  [25.7, 83.6]\n",
            "data save for  [27.1, 82]\n",
            "data save for  [26.8, 83.4]\n",
            "data save for  [25.5, 79.9]\n",
            "data save for  [28.7, 77.8]\n",
            "data save for  [27.4, 80.1]\n",
            "data save for  [27.6, 78.1]\n",
            "data save for  [26, 79.5]\n",
            "data save for  [25.7, 82.6]\n",
            "data save for  [25.5, 78.6]\n",
            "data save for  [27.1, 79.9]\n",
            "data save for  [26.4, 80.3]\n",
            "data save for  [26.5, 79.8]\n",
            "data save for  [26.4, 80.2]\n",
            "data save for  [27.8, 78.8]\n",
            "data save for  [27.9, 80.8]\n",
            "data save for  [25.5, 81.4]\n",
            "data save for  [26.7, 83.9]\n",
            "data save for  [24.7, 78.4]\n",
            "data save for  [26.9, 80.9]\n",
            "data save for  [25.3, 79.9]\n",
            "data save for  [27.1, 83.6]\n",
            "data save for  [27.3, 79.1]\n",
            "data save for  [27.6, 77.6]\n",
            "data save for  [26, 83.6]\n",
            "data save for  [29, 77.7]\n",
            "data save for  [25, 82.6]\n",
            "data save for  [28.7, 78.7]\n",
            "data save for  [29.5, 77.7]\n",
            "data save for  [28.5, 79.9]\n",
            "data save for  [25.8, 81.8]\n",
            "data save for  [26.2, 81.2]\n",
            "data save for  [28.8, 79.1]\n",
            "data save for  [29.9, 77.9]\n",
            "data save for  [28.6, 78.6]\n",
            "data save for  [26.8, 83]\n",
            "data save for  [25.3, 82.4]\n",
            "data save for  [28, 79.9]\n",
            "data save for  [29.5, 77.3]\n",
            "data save for  [27.6, 81.9]\n",
            "data save for  [27.3, 82.8]\n",
            "data save for  [27.6, 80.8]\n",
            "data save for  [24.5, 83]\n",
            "data save for  [26.2, 82]\n",
            "data save for  [26.6, 80.5]\n",
            "data save for  [25.3, 83, 1]\n"
          ]
        }
      ]
    },
    {
      "cell_type": "code",
      "source": [
        "#West Bengal\n",
        "# Provide lat and long in a list\n",
        "latLong = [[22.1,88.4],[22.4,88.6],[26.5,89.5],[24.4,87.2],[23.7,87.7],[23.2,87.9],[26,89.5],[25.4,88.6],[27.1,88.3],[21.9,87.8],[22.9,88.3],[22.6,88],[26.5,88.7],[22.5,87],[27.1,88.5],[24,88],[25,88.1],[22.4,87.3],[24.1,88.3],[23.4,88.5],[23.2,87.9],[23,86.4],[26,88.1],[25.5,88.4],[22.4,87.4,1]]\n",
        "\n",
        "\n",
        "for points in latLong:\n",
        "  lat = points[0]\n",
        "  lon = points[1]\n",
        "\n",
        "  data.to_csv('wb_rain.csv', lat, lon, path)\n",
        "  print (\"data save for \",points)"
      ],
      "metadata": {
        "id": "J9rq5JJf_zUq",
        "outputId": "ce659f85-c32d-4aed-d353-51338af09645",
        "colab": {
          "base_uri": "https://localhost:8080/"
        }
      },
      "execution_count": 18,
      "outputs": [
        {
          "output_type": "stream",
          "name": "stdout",
          "text": [
            "data save for  [22.1, 88.4]\n",
            "data save for  [22.4, 88.6]\n",
            "data save for  [26.5, 89.5]\n",
            "data save for  [24.4, 87.2]\n",
            "data save for  [23.7, 87.7]\n",
            "data save for  [23.2, 87.9]\n",
            "data save for  [26, 89.5]\n",
            "data save for  [25.4, 88.6]\n",
            "data save for  [27.1, 88.3]\n",
            "data save for  [21.9, 87.8]\n",
            "data save for  [22.9, 88.3]\n",
            "data save for  [22.6, 88]\n",
            "data save for  [26.5, 88.7]\n",
            "data save for  [22.5, 87]\n",
            "data save for  [27.1, 88.5]\n",
            "data save for  [24, 88]\n",
            "data save for  [25, 88.1]\n",
            "data save for  [22.4, 87.3]\n",
            "data save for  [24.1, 88.3]\n",
            "data save for  [23.4, 88.5]\n",
            "data save for  [23.2, 87.9]\n",
            "data save for  [23, 86.4]\n",
            "data save for  [26, 88.1]\n",
            "data save for  [25.5, 88.4]\n",
            "data save for  [22.4, 87.4, 1]\n"
          ]
        }
      ]
    },
    {
      "cell_type": "code",
      "source": [
        "#Chhattisgarh\n",
        "# Provide lat and long in a list\n",
        "latLong = [[20.8,81.3],[21.7,82.2],[23.6,83.6],[19.1,82],[21.7,81.6],[18.9,80.7],[22.1,82.1],[18.9,81.4],[20.7,81.6],[21.2,81.3],[20.3,82.3],[22.3,82.9],[22,82.6],[22.8,83.9],[20.3,81.5],[22,81.2],[19.6,81.7],[22.4,82.8],[23.4,82.4],[21.1,82.1],[22.2,81.7],[19.7,81.2],[21.9,83.4],[21.2,81.7],[21.1,81],[18.4,81.7],[23.2,82.9],[23.1,83.2,1]]\n",
        "\n",
        "\n",
        "for points in latLong:\n",
        "  lat = points[0]\n",
        "  lon = points[1]\n",
        "\n",
        "  data.to_csv('ch_rain.csv', lat, lon, path)\n",
        "  print (\"data save for \",points)"
      ],
      "metadata": {
        "id": "XLronQLZ_zXR",
        "outputId": "f99bb7a1-508d-4896-a5b6-482c72973ce6",
        "colab": {
          "base_uri": "https://localhost:8080/"
        }
      },
      "execution_count": 19,
      "outputs": [
        {
          "output_type": "stream",
          "name": "stdout",
          "text": [
            "data save for  [20.8, 81.3]\n",
            "data save for  [21.7, 82.2]\n",
            "data save for  [23.6, 83.6]\n",
            "data save for  [19.1, 82]\n",
            "data save for  [21.7, 81.6]\n",
            "data save for  [18.9, 80.7]\n",
            "data save for  [22.1, 82.1]\n",
            "data save for  [18.9, 81.4]\n",
            "data save for  [20.7, 81.6]\n",
            "data save for  [21.2, 81.3]\n",
            "data save for  [20.3, 82.3]\n",
            "data save for  [22.3, 82.9]\n",
            "data save for  [22, 82.6]\n",
            "data save for  [22.8, 83.9]\n",
            "data save for  [20.3, 81.5]\n",
            "data save for  [22, 81.2]\n",
            "data save for  [19.6, 81.7]\n",
            "data save for  [22.4, 82.8]\n",
            "data save for  [23.4, 82.4]\n",
            "data save for  [21.1, 82.1]\n",
            "data save for  [22.2, 81.7]\n",
            "data save for  [19.7, 81.2]\n",
            "data save for  [21.9, 83.4]\n",
            "data save for  [21.2, 81.7]\n",
            "data save for  [21.1, 81]\n",
            "data save for  [18.4, 81.7]\n",
            "data save for  [23.2, 82.9]\n",
            "data save for  [23.1, 83.2, 1]\n"
          ]
        }
      ]
    },
    {
      "cell_type": "code",
      "source": [
        "#Jharkhand\n",
        "# Provide lat and long in a list\n",
        "latLong = [[23.7,86.2],[24.2,84.9],[21.5,86.7],[23.8,86.4],[24.1,83.7],[24.2,86.3],[24.8,87.2],[23.2,84.5],[24,85.4],[24,86.8],[24.5,85.7],[23.1,85.3],[23.8,84.4],[23.4,84.7],[24.6,87.7],[24.1,84.1],[23.7,85.6],[23.4,85],[25.2,87.7],[24.9,87.6],[22.7,85.9],[22.6,84.7],[22.7,86],[22.5,86.5],[22.4,85.4,1]]\n",
        "\n",
        "\n",
        "for points in latLong:\n",
        "  lat = points[0]\n",
        "  lon = points[1]\n",
        "\n",
        "  data.to_csv('jh_rain.csv', lat, lon, path)\n",
        "  print (\"data save for \",points)"
      ],
      "metadata": {
        "id": "_Unq9f8I_zZ0",
        "outputId": "21540b5b-2e8a-430c-83e9-d013a721b8a1",
        "colab": {
          "base_uri": "https://localhost:8080/"
        }
      },
      "execution_count": 20,
      "outputs": [
        {
          "output_type": "stream",
          "name": "stdout",
          "text": [
            "data save for  [23.7, 86.2]\n",
            "data save for  [24.2, 84.9]\n",
            "data save for  [21.5, 86.7]\n",
            "data save for  [23.8, 86.4]\n",
            "data save for  [24.1, 83.7]\n",
            "data save for  [24.2, 86.3]\n",
            "data save for  [24.8, 87.2]\n",
            "data save for  [23.2, 84.5]\n",
            "data save for  [24, 85.4]\n",
            "data save for  [24, 86.8]\n",
            "data save for  [24.5, 85.7]\n",
            "data save for  [23.1, 85.3]\n",
            "data save for  [23.8, 84.4]\n",
            "data save for  [23.4, 84.7]\n",
            "data save for  [24.6, 87.7]\n",
            "data save for  [24.1, 84.1]\n",
            "data save for  [23.7, 85.6]\n",
            "data save for  [23.4, 85]\n",
            "data save for  [25.2, 87.7]\n",
            "data save for  [24.9, 87.6]\n",
            "data save for  [22.7, 85.9]\n",
            "data save for  [22.6, 84.7]\n",
            "data save for  [22.7, 86]\n",
            "data save for  [22.5, 86.5]\n",
            "data save for  [22.4, 85.4, 1]\n"
          ]
        }
      ]
    },
    {
      "cell_type": "code",
      "source": [
        "#Uttarakhand\n",
        "# Provide lat and long in a list\n",
        "latLong = [[29.8,79.5],[29.8,79.8],[30.5,79.7],[29.3,80],[30.3,78],[29.9,78.9],[30,78.2],[29.5,79.7],[30,80.4],[30.3,79],[30.5,78.7],[29,79.5],[30.9,78.5,1]]\n",
        "\n",
        "\n",
        "for points in latLong:\n",
        "  lat = points[0]\n",
        "  lon = points[1]\n",
        "\n",
        "  data.to_csv('ut_rain.csv', lat, lon, path)\n",
        "  print (\"data save for \",points)"
      ],
      "metadata": {
        "id": "pCz0GEtI_zcd",
        "outputId": "04f0ce42-add9-44b2-a60a-c6535a873467",
        "colab": {
          "base_uri": "https://localhost:8080/"
        }
      },
      "execution_count": 21,
      "outputs": [
        {
          "output_type": "stream",
          "name": "stdout",
          "text": [
            "data save for  [29.8, 79.5]\n",
            "data save for  [29.8, 79.8]\n",
            "data save for  [30.5, 79.7]\n",
            "data save for  [29.3, 80]\n",
            "data save for  [30.3, 78]\n",
            "data save for  [29.9, 78.9]\n",
            "data save for  [30, 78.2]\n",
            "data save for  [29.5, 79.7]\n",
            "data save for  [30, 80.4]\n",
            "data save for  [30.3, 79]\n",
            "data save for  [30.5, 78.7]\n",
            "data save for  [29, 79.5]\n",
            "data save for  [30.9, 78.5, 1]\n"
          ]
        }
      ]
    }
  ]
}