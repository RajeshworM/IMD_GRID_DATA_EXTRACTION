{
  "nbformat": 4,
  "nbformat_minor": 0,
  "metadata": {
    "colab": {
      "provenance": [],
      "include_colab_link": true
    },
    "kernelspec": {
      "name": "python3",
      "display_name": "Python 3"
    },
    "language_info": {
      "name": "python"
    }
  },
  "cells": [
    {
      "cell_type": "markdown",
      "metadata": {
        "id": "view-in-github",
        "colab_type": "text"
      },
      "source": [
        "<a href=\"https://colab.research.google.com/github/RajeshworM/IMD_GRID_DATA_EXTRACTION/blob/master/IMDLIB_TMAX.ipynb\" target=\"_parent\"><img src=\"https://colab.research.google.com/assets/colab-badge.svg\" alt=\"Open In Colab\"/></a>"
      ]
    },
    {
      "cell_type": "code",
      "execution_count": null,
      "metadata": {
        "id": "TfjD2mg2vqEa",
        "colab": {
          "base_uri": "https://localhost:8080/"
        },
        "outputId": "e196adb7-e724-4093-b5a2-cb6cf40f4412"
      },
      "outputs": [
        {
          "output_type": "stream",
          "name": "stdout",
          "text": [
            "Mounted at /content/drive\n"
          ]
        }
      ],
      "source": [
        "# Connect Google drive with Google colab\n",
        "from google.colab import drive\n",
        "drive.mount('/content/drive')"
      ]
    },
    {
      "cell_type": "code",
      "source": [
        "!pip install imdlib"
      ],
      "metadata": {
        "id": "PtPYYBK4vujK",
        "colab": {
          "base_uri": "https://localhost:8080/"
        },
        "outputId": "46d57fe3-9c2a-4860-e390-d5dfe051301c"
      },
      "execution_count": null,
      "outputs": [
        {
          "output_type": "stream",
          "name": "stdout",
          "text": [
            "Collecting imdlib\n",
            "  Downloading imdlib-0.1.20-py3-none-any.whl.metadata (6.7 kB)\n",
            "Requirement already satisfied: matplotlib in /usr/local/lib/python3.10/dist-packages (from imdlib) (3.7.1)\n",
            "Requirement already satisfied: numpy in /usr/local/lib/python3.10/dist-packages (from imdlib) (1.26.4)\n",
            "Requirement already satisfied: pandas in /usr/local/lib/python3.10/dist-packages (from imdlib) (2.1.4)\n",
            "Requirement already satisfied: six in /usr/local/lib/python3.10/dist-packages (from imdlib) (1.16.0)\n",
            "Requirement already satisfied: python-dateutil in /usr/local/lib/python3.10/dist-packages (from imdlib) (2.8.2)\n",
            "Requirement already satisfied: pytz in /usr/local/lib/python3.10/dist-packages (from imdlib) (2024.1)\n",
            "Requirement already satisfied: urllib3 in /usr/local/lib/python3.10/dist-packages (from imdlib) (2.0.7)\n",
            "Requirement already satisfied: scipy in /usr/local/lib/python3.10/dist-packages (from imdlib) (1.13.1)\n",
            "Requirement already satisfied: xarray in /usr/local/lib/python3.10/dist-packages (from imdlib) (2024.6.0)\n",
            "Requirement already satisfied: requests in /usr/local/lib/python3.10/dist-packages (from imdlib) (2.32.3)\n",
            "Requirement already satisfied: contourpy>=1.0.1 in /usr/local/lib/python3.10/dist-packages (from matplotlib->imdlib) (1.2.1)\n",
            "Requirement already satisfied: cycler>=0.10 in /usr/local/lib/python3.10/dist-packages (from matplotlib->imdlib) (0.12.1)\n",
            "Requirement already satisfied: fonttools>=4.22.0 in /usr/local/lib/python3.10/dist-packages (from matplotlib->imdlib) (4.53.1)\n",
            "Requirement already satisfied: kiwisolver>=1.0.1 in /usr/local/lib/python3.10/dist-packages (from matplotlib->imdlib) (1.4.5)\n",
            "Requirement already satisfied: packaging>=20.0 in /usr/local/lib/python3.10/dist-packages (from matplotlib->imdlib) (24.1)\n",
            "Requirement already satisfied: pillow>=6.2.0 in /usr/local/lib/python3.10/dist-packages (from matplotlib->imdlib) (9.4.0)\n",
            "Requirement already satisfied: pyparsing>=2.3.1 in /usr/local/lib/python3.10/dist-packages (from matplotlib->imdlib) (3.1.2)\n",
            "Requirement already satisfied: tzdata>=2022.1 in /usr/local/lib/python3.10/dist-packages (from pandas->imdlib) (2024.1)\n",
            "Requirement already satisfied: charset-normalizer<4,>=2 in /usr/local/lib/python3.10/dist-packages (from requests->imdlib) (3.3.2)\n",
            "Requirement already satisfied: idna<4,>=2.5 in /usr/local/lib/python3.10/dist-packages (from requests->imdlib) (3.7)\n",
            "Requirement already satisfied: certifi>=2017.4.17 in /usr/local/lib/python3.10/dist-packages (from requests->imdlib) (2024.7.4)\n",
            "Downloading imdlib-0.1.20-py3-none-any.whl (21 kB)\n",
            "Installing collected packages: imdlib\n",
            "Successfully installed imdlib-0.1.20\n"
          ]
        }
      ]
    },
    {
      "cell_type": "code",
      "source": [
        "# Download the IMD raw data into the google drive\n",
        "import imdlib as imd\n",
        "import pandas as pd\n",
        "import geopandas as gpd\n",
        "from shapely.geometry import Point, Polygon\n",
        "\n",
        "path = \"/content/drive/MyDrive/Colab Notebooks\"\n",
        "\n",
        "start_yr = 2000\n",
        "end_yr = 2023\n",
        "variable = 'tmax' # other options are ('rain'/'tmin'/ 'tmax')\n",
        "\n",
        "imd.get_data(variable, start_yr, end_yr, fn_format='yearwise', file_dir=path)\n",
        "data = imd.open_data(variable, start_yr, end_yr,'yearwise', path)\n",
        "ds = data.get_xarray()\n",
        "print(ds)\n",
        "\n"
      ],
      "metadata": {
        "id": "dxoZ92AHvwNr",
        "colab": {
          "base_uri": "https://localhost:8080/"
        },
        "outputId": "04f89906-2bb7-49e8-f181-23025d9ba4b7"
      },
      "execution_count": null,
      "outputs": [
        {
          "output_type": "stream",
          "name": "stdout",
          "text": [
            "Downloading: rain for year 2000\n",
            "Downloading: rain for year 2001\n",
            "Downloading: rain for year 2002\n",
            "Downloading: rain for year 2003\n",
            "Downloading: rain for year 2004\n",
            "Downloading: rain for year 2005\n",
            "Downloading: rain for year 2006\n",
            "Downloading: rain for year 2007\n",
            "Downloading: rain for year 2008\n",
            "Downloading: rain for year 2009\n",
            "Downloading: rain for year 2010\n",
            "Downloading: rain for year 2011\n",
            "Downloading: rain for year 2012\n",
            "Downloading: rain for year 2013\n",
            "Downloading: rain for year 2014\n",
            "Downloading: rain for year 2015\n",
            "Downloading: rain for year 2016\n",
            "Downloading: rain for year 2017\n",
            "Downloading: rain for year 2018\n",
            "Downloading: rain for year 2019\n",
            "Downloading: rain for year 2020\n",
            "Downloading: rain for year 2021\n",
            "Downloading: rain for year 2022\n",
            "Downloading: rain for year 2023\n",
            "Download Successful !!!\n",
            "<xarray.Dataset> Size: 1GB\n",
            "Dimensions:  (time: 8766, lat: 129, lon: 135)\n",
            "Coordinates:\n",
            "  * lat      (lat) float64 1kB 6.5 6.75 7.0 7.25 7.5 ... 37.75 38.0 38.25 38.5\n",
            "  * lon      (lon) float64 1kB 66.5 66.75 67.0 67.25 ... 99.25 99.5 99.75 100.0\n",
            "  * time     (time) datetime64[ns] 70kB 2000-01-01 2000-01-02 ... 2023-12-31\n",
            "Data variables:\n",
            "    rain     (time, lat, lon) float64 1GB -999.0 -999.0 -999.0 ... -999.0 -999.0\n",
            "Attributes:\n",
            "    Conventions:  CF-1.7\n",
            "    title:        IMD gridded data\n",
            "    source:       https://imdpune.gov.in/\n",
            "    history:      2024-08-14 07:06:36.559408 Python\n",
            "    references:   \n",
            "    comment:      \n",
            "    crs:          epsg:4326\n"
          ]
        }
      ]
    },
    {
      "cell_type": "code",
      "source": [
        "# Save CSV files for multiple points\n",
        "#Andhra Pradesh\n",
        "# Provide lat and long in a list\n",
        "latLong = [[17.0,82.2],[16.6,79.6],[14.5,78.8],[16.2,81.1],[15.8,78.1],[15.3,79.6],[14.5,80],[18.6,84.3],[17.7,83.3],[18.1,83.3],[16.8,81.5],[14.6,77],[13.5,78.5,1]]\n",
        "#Andhra Pradesh\n",
        "\n",
        "for points in latLong:\n",
        "  lat = points[0]\n",
        "  lon = points[1]\n",
        "\n",
        "  data.to_csv('ap_tmax.csv', lat, lon, path)\n",
        "  print (\"data save for \",points)"
      ],
      "metadata": {
        "id": "o5BHr3Fev3W6",
        "colab": {
          "base_uri": "https://localhost:8080/"
        },
        "outputId": "07916e59-4a13-4806-ea7c-7ef07714b7a6"
      },
      "execution_count": null,
      "outputs": [
        {
          "output_type": "stream",
          "name": "stdout",
          "text": [
            "data save for  [17.0, 82.2]\n",
            "data save for  [16.6, 79.6]\n",
            "data save for  [14.5, 78.8]\n",
            "data save for  [16.2, 81.1]\n",
            "data save for  [15.8, 78.1]\n",
            "data save for  [15.3, 79.6]\n",
            "data save for  [14.5, 80]\n",
            "data save for  [18.6, 84.3]\n",
            "data save for  [17.7, 83.3]\n",
            "data save for  [18.1, 83.3]\n",
            "data save for  [16.8, 81.5]\n",
            "data save for  [14.6, 77]\n",
            "data save for  [13.5, 78.5, 1]\n"
          ]
        }
      ]
    },
    {
      "cell_type": "code",
      "source": [
        "#Telanga\n",
        "# Provide lat and long in a list\n",
        "latLong = []\n",
        "\n",
        "\n",
        "for points in latLong:\n",
        "  lat = points[0]\n",
        "  lon = points[1]\n",
        "\n",
        "  data.to_csv('tl_tmax.csv', lat, lon, path)\n",
        "  print (\"data save for \",points)"
      ],
      "metadata": {
        "id": "AAQQJyfp_HMx"
      },
      "execution_count": null,
      "outputs": []
    },
    {
      "cell_type": "code",
      "source": [
        "#Assam\n",
        "# Provide lat and long in a list\n",
        "latLong = []\n",
        "\n",
        "\n",
        "for points in latLong:\n",
        "  lat = points[0]\n",
        "  lon = points[1]\n",
        "\n",
        "  data.to_csv('as_tmax.csv', lat, lon, path)\n",
        "  print (\"data save for \",points)"
      ],
      "metadata": {
        "id": "8fmDDmvz_O2Z"
      },
      "execution_count": null,
      "outputs": []
    },
    {
      "cell_type": "code",
      "source": [
        "#Bihar\n",
        "# Provide lat and long in a list\n",
        "latLong = []\n",
        "\n",
        "\n",
        "for points in latLong:\n",
        "  lat = points[0]\n",
        "  lon = points[1]\n",
        "\n",
        "  data.to_csv('bh_tmax.csv', lat, lon, path)\n",
        "  print (\"data save for \",points)"
      ],
      "metadata": {
        "id": "nhsVcZjd_PGh"
      },
      "execution_count": null,
      "outputs": []
    },
    {
      "cell_type": "code",
      "source": [
        "#Gujarat\n",
        "# Provide lat and long in a list\n",
        "latLong = []\n",
        "\n",
        "\n",
        "for points in latLong:\n",
        "  lat = points[0]\n",
        "  lon = points[1]\n",
        "\n",
        "  data.to_csv('gj_tmax.csv', lat, lon, path)\n",
        "  print (\"data save for \",points)"
      ],
      "metadata": {
        "id": "BRo7YGnt_PLZ"
      },
      "execution_count": null,
      "outputs": []
    },
    {
      "cell_type": "code",
      "source": [
        "#Haryana\n",
        "# Provide lat and long in a list\n",
        "latLong = []\n",
        "\n",
        "\n",
        "for points in latLong:\n",
        "  lat = points[0]\n",
        "  lon = points[1]\n",
        "\n",
        "  data.to_csv('hy_tmax.csv', lat, lon, path)\n",
        "  print (\"data save for \",points)"
      ],
      "metadata": {
        "id": "9zj9fWT9_PPE"
      },
      "execution_count": null,
      "outputs": []
    },
    {
      "cell_type": "code",
      "source": [
        "#Karnataka\n",
        "# Provide lat and long in a list\n",
        "latLong = []\n",
        "\n",
        "\n",
        "for points in latLong:\n",
        "  lat = points[0]\n",
        "  lon = points[1]\n",
        "\n",
        "  data.to_csv('kr_tmax.csv', lat, lon, path)\n",
        "  print (\"data save for \",points)"
      ],
      "metadata": {
        "id": "d7ki-ITq_PSB"
      },
      "execution_count": null,
      "outputs": []
    },
    {
      "cell_type": "code",
      "source": [
        "#Madhya Pradesh\n",
        "# Provide lat and long in a list\n",
        "latLong = []\n",
        "\n",
        "\n",
        "for points in latLong:\n",
        "  lat = points[0]\n",
        "  lon = points[1]\n",
        "\n",
        "  data.to_csv('mp_tmax.csv', lat, lon, path)\n",
        "  print (\"data save for \",points)"
      ],
      "metadata": {
        "id": "z7C2DsFr_PUp"
      },
      "execution_count": null,
      "outputs": []
    },
    {
      "cell_type": "code",
      "source": [
        "#Maharashtra\n",
        "# Provide lat and long in a list\n",
        "latLong = []\n",
        "\n",
        "\n",
        "for points in latLong:\n",
        "  lat = points[0]\n",
        "  lon = points[1]\n",
        "\n",
        "  data.to_csv('mh_tmax.csv', lat, lon, path)\n",
        "  print (\"data save for \",points)"
      ],
      "metadata": {
        "id": "HmSu1IJI_PXa"
      },
      "execution_count": null,
      "outputs": []
    },
    {
      "cell_type": "code",
      "source": [
        "#Orissa\n",
        "# Provide lat and long in a list\n",
        "latLong = []\n",
        "\n",
        "\n",
        "for points in latLong:\n",
        "  lat = points[0]\n",
        "  lon = points[1]\n",
        "\n",
        "  data.to_csv('or_tmax.csv', lat, lon, path)\n",
        "  print (\"data save for \",points)"
      ],
      "metadata": {
        "id": "mMU1p09w_PZx"
      },
      "execution_count": null,
      "outputs": []
    },
    {
      "cell_type": "code",
      "source": [
        "#Punjab\n",
        "# Provide lat and long in a list\n",
        "latLong = []\n",
        "\n",
        "\n",
        "for points in latLong:\n",
        "  lat = points[0]\n",
        "  lon = points[1]\n",
        "\n",
        "  data.to_csv('pj_tmax.csv', lat, lon, path)\n",
        "  print (\"data save for \",points)"
      ],
      "metadata": {
        "id": "wyBZUPHI_Pc0"
      },
      "execution_count": null,
      "outputs": []
    },
    {
      "cell_type": "code",
      "source": [
        "#Rajasthan\n",
        "# Provide lat and long in a list\n",
        "latLong = []\n",
        "\n",
        "\n",
        "for points in latLong:\n",
        "  lat = points[0]\n",
        "  lon = points[1]\n",
        "\n",
        "  data.to_csv('rj_tmax.csv', lat, lon, path)\n",
        "  print (\"data save for \",points)"
      ],
      "metadata": {
        "id": "c_Qmj9L4_Pfh"
      },
      "execution_count": null,
      "outputs": []
    },
    {
      "cell_type": "code",
      "source": [
        "#Tamilnadu\n",
        "# Provide lat and long in a list\n",
        "latLong = []\n",
        "\n",
        "\n",
        "for points in latLong:\n",
        "  lat = points[0]\n",
        "  lon = points[1]\n",
        "\n",
        "  data.to_csv('tn_tmax.csv', lat, lon, path)\n",
        "  print (\"data save for \",points)"
      ],
      "metadata": {
        "id": "pUVvE9W8_zLK"
      },
      "execution_count": null,
      "outputs": []
    },
    {
      "cell_type": "code",
      "source": [
        "#Uttar Pradesh\n",
        "# Provide lat and long in a list\n",
        "latLong = []\n",
        "\n",
        "\n",
        "for points in latLong:\n",
        "  lat = points[0]\n",
        "  lon = points[1]\n",
        "\n",
        "  data.to_csv('up_tmax.csv', lat, lon, path)\n",
        "  print (\"data save for \",points)"
      ],
      "metadata": {
        "id": "k6g0rbIa_zRt"
      },
      "execution_count": null,
      "outputs": []
    },
    {
      "cell_type": "code",
      "source": [
        "#West Bengal\n",
        "# Provide lat and long in a list\n",
        "latLong = []\n",
        "\n",
        "\n",
        "for points in latLong:\n",
        "  lat = points[0]\n",
        "  lon = points[1]\n",
        "\n",
        "  data.to_csv('wb_tmax.csv', lat, lon, path)\n",
        "  print (\"data save for \",points)"
      ],
      "metadata": {
        "id": "J9rq5JJf_zUq"
      },
      "execution_count": null,
      "outputs": []
    },
    {
      "cell_type": "code",
      "source": [
        "#Chhattisgarh\n",
        "# Provide lat and long in a list\n",
        "latLong = []\n",
        "\n",
        "\n",
        "for points in latLong:\n",
        "  lat = points[0]\n",
        "  lon = points[1]\n",
        "\n",
        "  data.to_csv('ch_tmax.csv', lat, lon, path)\n",
        "  print (\"data save for \",points)"
      ],
      "metadata": {
        "id": "XLronQLZ_zXR"
      },
      "execution_count": null,
      "outputs": []
    },
    {
      "cell_type": "code",
      "source": [
        "#Jharkhand\n",
        "# Provide lat and long in a list\n",
        "latLong = []\n",
        "\n",
        "\n",
        "for points in latLong:\n",
        "  lat = points[0]\n",
        "  lon = points[1]\n",
        "\n",
        "  data.to_csv('jh_tmax.csv', lat, lon, path)\n",
        "  print (\"data save for \",points)"
      ],
      "metadata": {
        "id": "_Unq9f8I_zZ0"
      },
      "execution_count": null,
      "outputs": []
    },
    {
      "cell_type": "code",
      "source": [
        "#Uttarakhand\n",
        "# Provide lat and long in a list\n",
        "latLong = []\n",
        "\n",
        "\n",
        "for points in latLong:\n",
        "  lat = points[0]\n",
        "  lon = points[1]\n",
        "\n",
        "  data.to_csv('ut_tmax.csv', lat, lon, path)\n",
        "  print (\"data save for \",points)"
      ],
      "metadata": {
        "id": "pCz0GEtI_zcd"
      },
      "execution_count": null,
      "outputs": []
    }
  ]
}